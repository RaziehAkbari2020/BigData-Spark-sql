{
  "nbformat": 4,
  "nbformat_minor": 0,
  "metadata": {
    "colab": {
      "provenance": [],
      "authorship_tag": "ABX9TyOHOm4vhaPgIzdJpGBJWdsi",
      "include_colab_link": true
    },
    "kernelspec": {
      "name": "python3",
      "display_name": "Python 3"
    },
    "language_info": {
      "name": "python"
    }
  },
  "cells": [
    {
      "cell_type": "markdown",
      "metadata": {
        "id": "view-in-github",
        "colab_type": "text"
      },
      "source": [
        "<a href=\"https://colab.research.google.com/github/RaziehAkbari2020/BigData-Spark-sql/blob/main/Book_Rating_the_first_and_second_question_Dataframe_and_Spark_Sql.ipynb\" target=\"_parent\"><img src=\"https://colab.research.google.com/assets/colab-badge.svg\" alt=\"Open In Colab\"/></a>"
      ]
    },
    {
      "cell_type": "code",
      "execution_count": 1,
      "metadata": {
        "colab": {
          "base_uri": "https://localhost:8080/"
        },
        "id": "gbAIUWVASI6f",
        "outputId": "8ef336b4-0cc4-45ec-9383-47fdaeb98ce9"
      },
      "outputs": [
        {
          "output_type": "stream",
          "name": "stdout",
          "text": [
            "Collecting pyspark\n",
            "  Downloading pyspark-3.5.1.tar.gz (317.0 MB)\n",
            "\u001b[2K     \u001b[90m━━━━━━━━━━━━━━━━━━━━━━━━━━━━━━━━━━━━━━━━\u001b[0m \u001b[32m317.0/317.0 MB\u001b[0m \u001b[31m2.4 MB/s\u001b[0m eta \u001b[36m0:00:00\u001b[0m\n",
            "\u001b[?25h  Preparing metadata (setup.py) ... \u001b[?25l\u001b[?25hdone\n",
            "Requirement already satisfied: py4j==0.10.9.7 in /usr/local/lib/python3.10/dist-packages (from pyspark) (0.10.9.7)\n",
            "Building wheels for collected packages: pyspark\n",
            "  Building wheel for pyspark (setup.py) ... \u001b[?25l\u001b[?25hdone\n",
            "  Created wheel for pyspark: filename=pyspark-3.5.1-py2.py3-none-any.whl size=317488491 sha256=f20680321b4250ee8c3bff2024fcfab276c9346e99cf94df984c5a34a965364c\n",
            "  Stored in directory: /root/.cache/pip/wheels/80/1d/60/2c256ed38dddce2fdd93be545214a63e02fbd8d74fb0b7f3a6\n",
            "Successfully built pyspark\n",
            "Installing collected packages: pyspark\n",
            "Successfully installed pyspark-3.5.1\n"
          ]
        }
      ],
      "source": [
        "!pip install pyspark"
      ]
    },
    {
      "cell_type": "code",
      "source": [
        "from pyspark.sql import SparkSession"
      ],
      "metadata": {
        "id": "aeTbz_cnTY3X"
      },
      "execution_count": 2,
      "outputs": []
    },
    {
      "cell_type": "code",
      "source": [
        "spark=SparkSession.builder.master('local[*]').appName('First SQL').getOrCreate()"
      ],
      "metadata": {
        "id": "n-6Yko2rTsjQ"
      },
      "execution_count": 3,
      "outputs": []
    },
    {
      "cell_type": "code",
      "source": [
        "rate_df =spark.read.options(sep=';', header=True, inferSchema=True).csv('/content/Book-Ratings.csv')"
      ],
      "metadata": {
        "id": "b01m_Hf8UiRC"
      },
      "execution_count": 17,
      "outputs": []
    },
    {
      "cell_type": "code",
      "source": [
        "rate_df.printSchema()"
      ],
      "metadata": {
        "colab": {
          "base_uri": "https://localhost:8080/"
        },
        "id": "ggJNFoQH9Lji",
        "outputId": "2c41a821-3d88-4fc8-d0e9-e09b7bc5cbdd"
      },
      "execution_count": 19,
      "outputs": [
        {
          "output_type": "stream",
          "name": "stdout",
          "text": [
            "root\n",
            " |-- userid: integer (nullable = true)\n",
            " |-- isbn: string (nullable = true)\n",
            " |-- rate: integer (nullable = true)\n",
            "\n"
          ]
        }
      ]
    },
    {
      "cell_type": "code",
      "source": [
        "rate_df.show(5)"
      ],
      "metadata": {
        "colab": {
          "base_uri": "https://localhost:8080/"
        },
        "id": "rwttCQ4k6-A4",
        "outputId": "8644b498-118d-4f66-92e2-f932f1398291"
      },
      "execution_count": 20,
      "outputs": [
        {
          "output_type": "stream",
          "name": "stdout",
          "text": [
            "+------+----------+----+\n",
            "|userid|      isbn|rate|\n",
            "+------+----------+----+\n",
            "|276725|034545104X|   0|\n",
            "|276726|0155061224|   5|\n",
            "|276727|0446520802|   0|\n",
            "|276729|052165615X|   3|\n",
            "|276729|0521795028|   6|\n",
            "+------+----------+----+\n",
            "only showing top 5 rows\n",
            "\n"
          ]
        }
      ]
    },
    {
      "cell_type": "markdown",
      "source": [
        "انتخاب ستون های مدنظر در جدول بوک ریتینگ\n",
        "bookrating"
      ],
      "metadata": {
        "id": "YXjBiRIf8l6a"
      }
    },
    {
      "cell_type": "code",
      "source": [
        "new_rate_df=rate_df.select('userid','rate')"
      ],
      "metadata": {
        "id": "OGH6hYxm7Kg9"
      },
      "execution_count": 21,
      "outputs": []
    },
    {
      "cell_type": "code",
      "source": [
        "new_rate_df.show(5)"
      ],
      "metadata": {
        "colab": {
          "base_uri": "https://localhost:8080/"
        },
        "id": "Dw9JvgA38heZ",
        "outputId": "df88471b-4d3d-4b2a-e20d-8abb593bfe0f"
      },
      "execution_count": 22,
      "outputs": [
        {
          "output_type": "stream",
          "name": "stdout",
          "text": [
            "+------+----+\n",
            "|userid|rate|\n",
            "+------+----+\n",
            "|276725|   0|\n",
            "|276726|   5|\n",
            "|276727|   0|\n",
            "|276729|   3|\n",
            "|276729|   6|\n",
            "+------+----+\n",
            "only showing top 5 rows\n",
            "\n"
          ]
        }
      ]
    },
    {
      "cell_type": "code",
      "source": [
        "rate_df.filter('rate>5').select('isbn','rate').show(5)"
      ],
      "metadata": {
        "colab": {
          "base_uri": "https://localhost:8080/"
        },
        "id": "nQBdxMjk8zw8",
        "outputId": "abcf884b-b64f-46d3-c269-a1399225d4fd"
      },
      "execution_count": 23,
      "outputs": [
        {
          "output_type": "stream",
          "name": "stdout",
          "text": [
            "+----------+----+\n",
            "|      isbn|rate|\n",
            "+----------+----+\n",
            "|0521795028|   6|\n",
            "|3257224281|   8|\n",
            "|0600570967|   6|\n",
            "|038550120X|   7|\n",
            "| 342310538|  10|\n",
            "+----------+----+\n",
            "only showing top 5 rows\n",
            "\n"
          ]
        }
      ]
    },
    {
      "cell_type": "code",
      "source": [
        "rate_df.groupBy('isbn').avg('rate').show(10)"
      ],
      "metadata": {
        "colab": {
          "base_uri": "https://localhost:8080/"
        },
        "id": "0PHwxpOr_LTh",
        "outputId": "a1e652e1-0c34-47d1-c3dc-765c52a920dc"
      },
      "execution_count": 24,
      "outputs": [
        {
          "output_type": "stream",
          "name": "stdout",
          "text": [
            "+----------+------------------+\n",
            "|      isbn|         avg(rate)|\n",
            "+----------+------------------+\n",
            "|2080674722|3.6666666666666665|\n",
            "|3499134004|               0.0|\n",
            "|3548603203|3.4166666666666665|\n",
            "|880781112X| 4.333333333333333|\n",
            "|0738205737|1.6666666666666667|\n",
            "|0749317256|               0.0|\n",
            "|0515131520|            1.6875|\n",
            "|8471662531|               7.0|\n",
            "|0441005470|               0.0|\n",
            "|0739417096| 5.285714285714286|\n",
            "+----------+------------------+\n",
            "only showing top 10 rows\n",
            "\n"
          ]
        }
      ]
    },
    {
      "cell_type": "code",
      "source": [
        "###rate_df.groupBy('isbn').count().show(10)\n",
        "####rate_df.groupBy('isbn').sum('rate').show(10)"
      ],
      "metadata": {
        "id": "1YroSBTF_M16"
      },
      "execution_count": 26,
      "outputs": []
    },
    {
      "cell_type": "markdown",
      "source": [
        "# **سوال: هر کتابی به طور میانگین چه امتیازی دریافت کرده است؟**"
      ],
      "metadata": {
        "id": "lOmYABH4HgDV"
      }
    },
    {
      "cell_type": "code",
      "source": [
        "book_avg_rate=rate_df.groupBy('isbn').avg('rate').show(10)"
      ],
      "metadata": {
        "colab": {
          "base_uri": "https://localhost:8080/"
        },
        "id": "Ict9oQ8t_MgT",
        "outputId": "14a7aab4-8a41-41bd-c7fb-8450483e2fc3"
      },
      "execution_count": 63,
      "outputs": [
        {
          "output_type": "stream",
          "name": "stdout",
          "text": [
            "+----------+------------------+\n",
            "|      isbn|         avg(rate)|\n",
            "+----------+------------------+\n",
            "|2080674722|3.6666666666666665|\n",
            "|3499134004|               0.0|\n",
            "|3548603203|3.4166666666666665|\n",
            "|880781112X| 4.333333333333333|\n",
            "|0738205737|1.6666666666666667|\n",
            "|0749317256|               0.0|\n",
            "|0515131520|            1.6875|\n",
            "|8471662531|               7.0|\n",
            "|0441005470|               0.0|\n",
            "|0739417096| 5.285714285714286|\n",
            "+----------+------------------+\n",
            "only showing top 10 rows\n",
            "\n"
          ]
        }
      ]
    },
    {
      "cell_type": "code",
      "source": [
        "from pyspark.sql.functions import *"
      ],
      "metadata": {
        "id": "luSV_zobBaaU"
      },
      "execution_count": 32,
      "outputs": []
    },
    {
      "cell_type": "code",
      "source": [
        "rate_df.groupBy('isbn').avg('rate'). orderBy(col('avg(rate)').desc()).show(10)"
      ],
      "metadata": {
        "colab": {
          "base_uri": "https://localhost:8080/"
        },
        "id": "-9JJkbbEBxsk",
        "outputId": "8c242054-bb96-4819-8709-a6dfa0dd0ebe"
      },
      "execution_count": 36,
      "outputs": [
        {
          "output_type": "stream",
          "name": "stdout",
          "text": [
            "+----------+---------+\n",
            "|      isbn|avg(rate)|\n",
            "+----------+---------+\n",
            "|8804478519|     10.0|\n",
            "|1886411999|     10.0|\n",
            "|0600576205|     10.0|\n",
            "|9707100567|     10.0|\n",
            "|0753451948|     10.0|\n",
            "|0690041535|     10.0|\n",
            "|3442431468|     10.0|\n",
            "|1576903389|     10.0|\n",
            "|0385411197|     10.0|\n",
            "|067088782X|     10.0|\n",
            "+----------+---------+\n",
            "only showing top 10 rows\n",
            "\n"
          ]
        }
      ]
    },
    {
      "cell_type": "code",
      "source": [
        "rate_df.groupBy('isbn').agg(count('rate'), sum('rate'), avg('rate')).filter(avg('rate')>5 ).orderBy(col('count(rate)').desc()).show()"
      ],
      "metadata": {
        "colab": {
          "base_uri": "https://localhost:8080/"
        },
        "id": "WvmF6Qw7FSnw",
        "outputId": "77758747-0c0b-4f0c-cf4d-2f0288638a01"
      },
      "execution_count": 42,
      "outputs": [
        {
          "output_type": "stream",
          "name": "stdout",
          "text": [
            "+----------+-----------+---------+------------------+\n",
            "|      isbn|count(rate)|sum(rate)|         avg(rate)|\n",
            "+----------+-----------+---------+------------------+\n",
            "|043935806X|        334|     1861|  5.57185628742515|\n",
            "|0345339681|        281|     1407|  5.00711743772242|\n",
            "|0439136369|        226|     1208| 5.345132743362832|\n",
            "|0439136350|        197|     1274| 6.467005076142132|\n",
            "|0812550706|        195|     1034| 5.302564102564102|\n",
            "|0439139597|        194|     1269| 6.541237113402062|\n",
            "|0439139600|        193|      985| 5.103626943005182|\n",
            "|0439064864|        170|     1124|6.6117647058823525|\n",
            "|0590353403|        168|     1069| 6.363095238095238|\n",
            "|0671027344|        103|      535| 5.194174757281553|\n",
            "|0670894605|         96|      528|               5.5|\n",
            "|0552137030|         93|      468| 5.032258064516129|\n",
            "|0156528207|         79|      458|5.7974683544303796|\n",
            "|0552131067|         78|      418| 5.358974358974359|\n",
            "|0877017883|         72|      435| 6.041666666666667|\n",
            "|0618002219|         70|      351| 5.014285714285714|\n",
            "|0446677450|         64|      343|          5.359375|\n",
            "|0894808249|         63|      330| 5.238095238095238|\n",
            "|0618002227|         63|      391|6.2063492063492065|\n",
            "|0618129022|         62|      342| 5.516129032258065|\n",
            "+----------+-----------+---------+------------------+\n",
            "only showing top 20 rows\n",
            "\n"
          ]
        }
      ]
    },
    {
      "cell_type": "code",
      "source": [
        "rate_df.createOrReplaceTempView('rating')"
      ],
      "metadata": {
        "id": "SqCpKjNHMSZB"
      },
      "execution_count": 45,
      "outputs": []
    },
    {
      "cell_type": "code",
      "source": [
        "## df=spark.sql(sql query)"
      ],
      "metadata": {
        "id": "synE1092MzJa"
      },
      "execution_count": null,
      "outputs": []
    },
    {
      "cell_type": "code",
      "source": [
        "spark.sql('select * from rating').show(5)"
      ],
      "metadata": {
        "colab": {
          "base_uri": "https://localhost:8080/"
        },
        "id": "--RvIFURM7tP",
        "outputId": "a8a0e1ce-b609-43dc-ec9d-04bcc17fa2bf"
      },
      "execution_count": 46,
      "outputs": [
        {
          "output_type": "stream",
          "name": "stdout",
          "text": [
            "+------+----------+----+\n",
            "|userid|      isbn|rate|\n",
            "+------+----------+----+\n",
            "|276725|034545104X|   0|\n",
            "|276726|0155061224|   5|\n",
            "|276727|0446520802|   0|\n",
            "|276729|052165615X|   3|\n",
            "|276729|0521795028|   6|\n",
            "+------+----------+----+\n",
            "only showing top 5 rows\n",
            "\n"
          ]
        }
      ]
    },
    {
      "cell_type": "code",
      "source": [
        "spark.sql('select * from rating WHERE rate>5').show(5)"
      ],
      "metadata": {
        "colab": {
          "base_uri": "https://localhost:8080/"
        },
        "id": "VGDUL7BDNFRw",
        "outputId": "ae5e8425-9a27-48f7-96e5-11b5a12853ad"
      },
      "execution_count": 47,
      "outputs": [
        {
          "output_type": "stream",
          "name": "stdout",
          "text": [
            "+------+----------+----+\n",
            "|userid|      isbn|rate|\n",
            "+------+----------+----+\n",
            "|276729|0521795028|   6|\n",
            "|276736|3257224281|   8|\n",
            "|276737|0600570967|   6|\n",
            "|276744|038550120X|   7|\n",
            "|276745| 342310538|  10|\n",
            "+------+----------+----+\n",
            "only showing top 5 rows\n",
            "\n"
          ]
        }
      ]
    },
    {
      "cell_type": "markdown",
      "source": [
        "## سوال دوم با روش اول: مجموعه داده جدیدی مطابق فیلدهای زیر تولید کند. خروجی مورد نظر در پایگاه داده قرار داده شود.\n",
        "(username; book title; username’ rate; Book Avg’ rate)\n"
      ],
      "metadata": {
        "id": "rFpSzBkXdQ3Y"
      }
    },
    {
      "cell_type": "code",
      "source": [
        "Book_df =spark.read.options(sep=';', header=True, inferSchema=True).csv('/content/Books.csv')"
      ],
      "metadata": {
        "id": "d_joMC_dPhuw"
      },
      "execution_count": 48,
      "outputs": []
    },
    {
      "cell_type": "code",
      "source": [
        "User_df =spark.read.options(sep=';', header=True, inferSchema=True).csv('/content/Users.csv')"
      ],
      "metadata": {
        "id": "DZYq5ET_dU2y"
      },
      "execution_count": 49,
      "outputs": []
    },
    {
      "cell_type": "code",
      "source": [
        "Book_df.show(5)"
      ],
      "metadata": {
        "colab": {
          "base_uri": "https://localhost:8080/"
        },
        "id": "9ExPfVpzdUsh",
        "outputId": "47e49305-1e76-4bc8-ebb8-097a46326055"
      },
      "execution_count": 50,
      "outputs": [
        {
          "output_type": "stream",
          "name": "stdout",
          "text": [
            "+----------+--------------------+--------------------+-----------------+--------------------+--------------------+--------------------+--------------------+\n",
            "|      ISBN|           BookTitle|          BookAuthor|YearOfPublication|           Publisher|           ImageURLS|           ImageURLM|           ImageURLL|\n",
            "+----------+--------------------+--------------------+-----------------+--------------------+--------------------+--------------------+--------------------+\n",
            "|0195153448| Classical Mythology|  Mark P. O. Morford|             2002|Oxford University...|http://images.ama...|http://images.ama...|http://images.ama...|\n",
            "|0002005018|        Clara Callan|Richard Bruce Wright|             2001|HarperFlamingo Ca...|http://images.ama...|http://images.ama...|http://images.ama...|\n",
            "|0060973129|Decision in Normandy|        Carlo D'Este|             1991|     HarperPerennial|http://images.ama...|http://images.ama...|http://images.ama...|\n",
            "|0374157065|Flu: The Story of...|    Gina Bari Kolata|             1999|Farrar Straus Giroux|http://images.ama...|http://images.ama...|http://images.ama...|\n",
            "|0393045218|The Mummies of Ur...|     E. J. W. Barber|             1999|W. W. Norton &amp...|http://images.ama...|http://images.ama...|http://images.ama...|\n",
            "+----------+--------------------+--------------------+-----------------+--------------------+--------------------+--------------------+--------------------+\n",
            "only showing top 5 rows\n",
            "\n"
          ]
        }
      ]
    },
    {
      "cell_type": "code",
      "source": [
        "User_df.show(5)"
      ],
      "metadata": {
        "colab": {
          "base_uri": "https://localhost:8080/"
        },
        "id": "aSzJ0kJAdUc2",
        "outputId": "5d84df82-37d2-45f0-f593-e6e470c3900e"
      },
      "execution_count": 51,
      "outputs": [
        {
          "output_type": "stream",
          "name": "stdout",
          "text": [
            "+------+-----------+--------------------+----+\n",
            "|UserID|   USERNAME|            Location| Age|\n",
            "+------+-----------+--------------------+----+\n",
            "|     1|bzsufoRTLN2|  nyc, new york, usa|NULL|\n",
            "|     2|fq7kfHg4VEI|stockton, califor...|  18|\n",
            "|     3|W0Hbkd3xR8v|moscow, yukon ter...|NULL|\n",
            "|     4|W51GahAx5Ap|porto, v.n.gaia, ...|  17|\n",
            "|     5|VKN3PQ18GgN|farnborough, hant...|NULL|\n",
            "+------+-----------+--------------------+----+\n",
            "only showing top 5 rows\n",
            "\n"
          ]
        }
      ]
    },
    {
      "cell_type": "code",
      "source": [
        "rate_df.show(5)"
      ],
      "metadata": {
        "colab": {
          "base_uri": "https://localhost:8080/"
        },
        "id": "0Gw1jQoeh3ah",
        "outputId": "b90e46f7-02a9-483e-b9c8-c9a259c27a74"
      },
      "execution_count": 52,
      "outputs": [
        {
          "output_type": "stream",
          "name": "stdout",
          "text": [
            "+------+----------+----+\n",
            "|userid|      isbn|rate|\n",
            "+------+----------+----+\n",
            "|276725|034545104X|   0|\n",
            "|276726|0155061224|   5|\n",
            "|276727|0446520802|   0|\n",
            "|276729|052165615X|   3|\n",
            "|276729|0521795028|   6|\n",
            "+------+----------+----+\n",
            "only showing top 5 rows\n",
            "\n"
          ]
        }
      ]
    },
    {
      "cell_type": "markdown",
      "source": [
        "جوین بین سه تا جدول"
      ],
      "metadata": {
        "id": "b-6Cl0X30nZI"
      }
    },
    {
      "cell_type": "code",
      "source": [
        "joined_df = rate_df.join(User_df, rate_df['userid'] == User_df['UserID'])\\\n",
        "                     .join(Book_df, rate_df['isbn'] == Book_df['isbn'])"
      ],
      "metadata": {
        "id": "jBCNX68r0P2w"
      },
      "execution_count": 65,
      "outputs": []
    },
    {
      "cell_type": "code",
      "source": [
        "joined_df.show(5)"
      ],
      "metadata": {
        "colab": {
          "base_uri": "https://localhost:8080/"
        },
        "id": "TZC3JSTN0YDM",
        "outputId": "b4886994-087b-485f-9944-502fcd4e7000"
      },
      "execution_count": 66,
      "outputs": [
        {
          "output_type": "stream",
          "name": "stdout",
          "text": [
            "+------+----------+----+------+-----------+--------------------+----+----------+--------------------+--------------------+-----------------+--------------------+--------------------+--------------------+--------------------+\n",
            "|userid|      isbn|rate|UserID|   USERNAME|            Location| Age|      ISBN|           BookTitle|          BookAuthor|YearOfPublication|           Publisher|           ImageURLS|           ImageURLM|           ImageURLL|\n",
            "+------+----------+----+------+-----------+--------------------+----+----------+--------------------+--------------------+-----------------+--------------------+--------------------+--------------------+--------------------+\n",
            "|171118|0000913154|   8|171118|6chdqlR3DC7|toronto, ontario,...|  47|0000913154|The Way Things Wo...|C. van Amerongen ...|             1967|Simon &amp; Schuster|http://images.ama...|http://images.ama...|http://images.ama...|\n",
            "| 86123|0001010565|   0| 86123|px70uymJ7k6|peterborough, ont...|NULL|0001010565|     Mog's Christmas|         Judith Kerr|             1992|             Collins|http://images.ama...|http://images.ama...|http://images.ama...|\n",
            "|209516|0001010565|   0|209516|mjteD2ip2Lj|felixstowe, suffo...|  57|0001010565|     Mog's Christmas|         Judith Kerr|             1992|             Collins|http://images.ama...|http://images.ama...|http://images.ama...|\n",
            "| 23902|0001046438|   9| 23902|cHwJip4Kj4k|london, england, ...|NULL|0001046438|                Liar|         Stephen Fry|                0|    Harpercollins Uk|http://images.ama...|http://images.ama...|http://images.ama...|\n",
            "|206300|0001046934|   0|206300|6VUiynjA3tV|london, england, ...|  34|0001046934|The Prime of Miss...|        Muriel Spark|             1999|Trafalgar Square ...|http://images.ama...|http://images.ama...|http://images.ama...|\n",
            "+------+----------+----+------+-----------+--------------------+----+----------+--------------------+--------------------+-----------------+--------------------+--------------------+--------------------+--------------------+\n",
            "only showing top 5 rows\n",
            "\n"
          ]
        }
      ]
    },
    {
      "cell_type": "markdown",
      "source": [
        "محاسبه میانگین رتبه برای هر کتاب"
      ],
      "metadata": {
        "id": "__DaojKQ1A8B"
      }
    },
    {
      "cell_type": "code",
      "source": [
        "book_avg_ratings = joined_df.groupBy(\"BookTitle\") \\\n",
        "                            .avg(\"rate\") \\\n",
        "                            .select(col(\"BookTitle\").alias(\"Bookstitle\"), col(\"avg(rate)\").alias(\"Book Avg rate\"))\n"
      ],
      "metadata": {
        "id": "pCAO7C5sdUIO"
      },
      "execution_count": 89,
      "outputs": []
    },
    {
      "cell_type": "code",
      "source": [
        "book_avg_ratings.show(5)"
      ],
      "metadata": {
        "colab": {
          "base_uri": "https://localhost:8080/"
        },
        "id": "Az6WRVWE1wBQ",
        "outputId": "a5e18682-e7fb-4aa2-be36-5a77a39d6f1d"
      },
      "execution_count": 90,
      "outputs": [
        {
          "output_type": "stream",
          "name": "stdout",
          "text": [
            "+--------------------+------------------+\n",
            "|          Bookstitle|     Book Avg rate|\n",
            "+--------------------+------------------+\n",
            "|                   K|               8.0|\n",
            "|Seven Years In Tibet|3.3333333333333335|\n",
            "|Survival Guide to...|               0.0|\n",
            "|Five Photos of My...|2.6666666666666665|\n",
            "|Prophecies: 4,000...|               0.0|\n",
            "+--------------------+------------------+\n",
            "only showing top 5 rows\n",
            "\n"
          ]
        }
      ]
    },
    {
      "cell_type": "markdown",
      "source": [
        "جوین"
      ],
      "metadata": {
        "id": "6Wxa6biZ70Y3"
      }
    },
    {
      "cell_type": "code",
      "source": [
        "final_df = joined_df.join(book_avg_ratings, joined_df['BookTitle']==book_avg_ratings['Bookstitle'] ,'right_outer')"
      ],
      "metadata": {
        "id": "I952FhrRiV_s"
      },
      "execution_count": 91,
      "outputs": []
    },
    {
      "cell_type": "code",
      "source": [
        "final_df.show(5)"
      ],
      "metadata": {
        "colab": {
          "base_uri": "https://localhost:8080/"
        },
        "id": "ZGLx9gKuijW1",
        "outputId": "47f7f24b-2aa9-41f1-8f4f-117426786f05"
      },
      "execution_count": 92,
      "outputs": [
        {
          "output_type": "stream",
          "name": "stdout",
          "text": [
            "+------+----------+----+------+-----------+--------------------+----+----------+--------------------+---------------+-----------------+--------------------+--------------------+--------------------+--------------------+--------------------+------------------+\n",
            "|userid|      isbn|rate|UserID|   USERNAME|            Location| Age|      ISBN|           BookTitle|     BookAuthor|YearOfPublication|           Publisher|           ImageURLS|           ImageURLM|           ImageURLL|          Bookstitle|     Book Avg rate|\n",
            "+------+----------+----+------+-----------+--------------------+----+----------+--------------------+---------------+-----------------+--------------------+--------------------+--------------------+--------------------+--------------------+------------------+\n",
            "|173650|0027495108|   0|173650|2xFOUoi9Kj5|edmonton, alberta...|  27|0027495108|              Apt. 3|Ezra Jack Keats|             1983|MacMillan Publish...|http://images.ama...|http://images.ama...|http://images.ama...|              Apt. 3|               0.0|\n",
            "|207291|0007100922|   0|207291|0UKTxDP3a72|brisbane, queensl...|NULL|0007100922|Five Photos of My...| Agnes Desarthe|             2001|            Flamingo|http://images.ama...|http://images.ama...|http://images.ama...|Five Photos of My...|2.6666666666666665|\n",
            "| 26883|0007100922|   6| 26883|cQMFLwimRbh|vienna, vienna, a...|NULL|0007100922|Five Photos of My...| Agnes Desarthe|             2001|            Flamingo|http://images.ama...|http://images.ama...|http://images.ama...|Five Photos of My...|2.6666666666666665|\n",
            "| 27650|0007100922|   0| 27650|9h7VBuv50Wn|canberra, austral...|  27|0007100922|Five Photos of My...| Agnes Desarthe|             2001|            Flamingo|http://images.ama...|http://images.ama...|http://images.ama...|Five Photos of My...|2.6666666666666665|\n",
            "| 85872|0007100922|   7| 85872|VMYrjng0Xl5|sydney, new south...|  36|0007100922|Five Photos of My...| Agnes Desarthe|             2001|            Flamingo|http://images.ama...|http://images.ama...|http://images.ama...|Five Photos of My...|2.6666666666666665|\n",
            "+------+----------+----+------+-----------+--------------------+----+----------+--------------------+---------------+-----------------+--------------------+--------------------+--------------------+--------------------+--------------------+------------------+\n",
            "only showing top 5 rows\n",
            "\n"
          ]
        }
      ]
    },
    {
      "cell_type": "markdown",
      "source": [
        " انتخاب فیلدهای مورد نیاز برای خروجی نهایی\n"
      ],
      "metadata": {
        "id": "DLyCgwA_7lf_"
      }
    },
    {
      "cell_type": "code",
      "source": [
        "final_df.select(\"USERNAME\", \"BookTitle\",\"rate\", \"Book Avg rate\").show(5)"
      ],
      "metadata": {
        "colab": {
          "base_uri": "https://localhost:8080/"
        },
        "id": "3ti8QxYbvuE3",
        "outputId": "8a06331f-a947-4e8e-d085-cd8e408620aa"
      },
      "execution_count": 94,
      "outputs": [
        {
          "output_type": "stream",
          "name": "stdout",
          "text": [
            "+-----------+--------------------+----+------------------+\n",
            "|   USERNAME|           BookTitle|rate|     Book Avg rate|\n",
            "+-----------+--------------------+----+------------------+\n",
            "|2xFOUoi9Kj5|              Apt. 3|   0|               0.0|\n",
            "|cQMFLwimRbh|Five Photos of My...|   6|2.6666666666666665|\n",
            "|9h7VBuv50Wn|Five Photos of My...|   0|2.6666666666666665|\n",
            "|VMYrjng0Xl5|Five Photos of My...|   7|2.6666666666666665|\n",
            "|8dSXnKtI7XQ|Five Photos of My...|   0|2.6666666666666665|\n",
            "+-----------+--------------------+----+------------------+\n",
            "only showing top 5 rows\n",
            "\n"
          ]
        }
      ]
    },
    {
      "cell_type": "markdown",
      "source": [
        "## سوال دوم با روش sql"
      ],
      "metadata": {
        "id": "ihs3Wj2UlIeY"
      }
    },
    {
      "cell_type": "code",
      "source": [
        "User_df.createOrReplaceTempView('Users')\n",
        "Book_df.createOrReplaceTempView('Books')\n",
        "rate_df.createOrReplaceTempView('rates')"
      ],
      "metadata": {
        "id": "hkvGTPFZlNW2"
      },
      "execution_count": null,
      "outputs": []
    },
    {
      "cell_type": "code",
      "source": [
        "query = \"\"\"\n",
        "SELECT U.USERNAME, B.BookTitle, R.rate, AVG(R.rate) OVER(PARTITION BY B.BookTitle) AS `Book Avg rate`\n",
        "FROM Users U\n",
        "JOIN Rates R ON U.UserID = R.userid\n",
        "JOIN Books B ON R.isbn = B.ISBN\n",
        "\"\"\"\n",
        "\n",
        "result_df = spark.sql(query)"
      ],
      "metadata": {
        "id": "uTXpWxRAzH-7"
      },
      "execution_count": 96,
      "outputs": []
    },
    {
      "cell_type": "code",
      "source": [
        "result_df.show()\n"
      ],
      "metadata": {
        "colab": {
          "base_uri": "https://localhost:8080/"
        },
        "id": "l1jGKXkQ-UJQ",
        "outputId": "b9af1f41-28ce-4a88-91fb-dedac3628b9b"
      },
      "execution_count": 97,
      "outputs": [
        {
          "output_type": "stream",
          "name": "stdout",
          "text": [
            "+-----------+--------------------+----+-------------+\n",
            "|   USERNAME|           BookTitle|rate|Book Avg rate|\n",
            "+-----------+--------------------+----+-------------+\n",
            "|pUouDwsRkWg| A Light in the S...|   0|         2.25|\n",
            "|SgEtQDV3Ty9| A Light in the S...|   0|         2.25|\n",
            "|looRoOsPQOE| A Light in the S...|   0|         2.25|\n",
            "|ARnPQAAZX22| A Light in the S...|   9|         2.25|\n",
            "|XViLfgjAPjr| Always Have Pops...|   0|          0.0|\n",
            "|3X2htHp8Jgk| Apple Magic (The...|   0|          0.0|\n",
            "|Sdp6sFiz8JZ| Ask Lily (Young ...|   8|          8.0|\n",
            "|b6EW9AjgVJh| Beyond IBM: Lead...|   0|          0.0|\n",
            "|ozDVdJsSNFq| Clifford Visita ...|   0|          0.0|\n",
            "|B6sjwQNgBvv|            Deceived|   0|          0.0|\n",
            "|Sf6oUFiPtfu|            Deceived|   0|          0.0|\n",
            "|eJeGfMDh4PC| Final Fantasy An...|   0|          5.0|\n",
            "|y5EKpeHmypT| Final Fantasy An...|   0|          5.0|\n",
            "|c3Php0UW0q0| Final Fantasy An...|  10|          5.0|\n",
            "|UUnmFBd9Qb2| Final Fantasy An...|  10|          5.0|\n",
            "|vStX3Wq9rPe| Flight of Fancy:...|   8|          4.0|\n",
            "|zyIcUrR2zAB| Flight of Fancy:...|   0|          4.0|\n",
            "|vn9OZwcXlaK| Good Wives: Imag...|   0|          3.2|\n",
            "|NtvgyP6xCnQ| Good Wives: Imag...|   7|          3.2|\n",
            "|gBpNBivhJ0r| Good Wives: Imag...|   0|          3.2|\n",
            "+-----------+--------------------+----+-------------+\n",
            "only showing top 20 rows\n",
            "\n"
          ]
        }
      ]
    }
  ]
}