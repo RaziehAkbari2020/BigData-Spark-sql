{
  "nbformat": 4,
  "nbformat_minor": 0,
  "metadata": {
    "colab": {
      "provenance": [],
      "authorship_tag": "ABX9TyN99AEoaKULwHp10QeVZ+2o",
      "include_colab_link": true
    },
    "kernelspec": {
      "name": "python3",
      "display_name": "Python 3"
    },
    "language_info": {
      "name": "python"
    }
  },
  "cells": [
    {
      "cell_type": "markdown",
      "metadata": {
        "id": "view-in-github",
        "colab_type": "text"
      },
      "source": [
        "<a href=\"https://colab.research.google.com/github/RaziehAkbari2020/BigData-Spark-sql/blob/main/Terminal_with_Spark_Sql.ipynb\" target=\"_parent\"><img src=\"https://colab.research.google.com/assets/colab-badge.svg\" alt=\"Open In Colab\"/></a>"
      ]
    },
    {
      "cell_type": "code",
      "execution_count": 1,
      "metadata": {
        "colab": {
          "base_uri": "https://localhost:8080/"
        },
        "id": "gbAIUWVASI6f",
        "outputId": "8ef336b4-0cc4-45ec-9383-47fdaeb98ce9"
      },
      "outputs": [
        {
          "output_type": "stream",
          "name": "stdout",
          "text": [
            "Collecting pyspark\n",
            "  Downloading pyspark-3.5.1.tar.gz (317.0 MB)\n",
            "\u001b[2K     \u001b[90m━━━━━━━━━━━━━━━━━━━━━━━━━━━━━━━━━━━━━━━━\u001b[0m \u001b[32m317.0/317.0 MB\u001b[0m \u001b[31m2.4 MB/s\u001b[0m eta \u001b[36m0:00:00\u001b[0m\n",
            "\u001b[?25h  Preparing metadata (setup.py) ... \u001b[?25l\u001b[?25hdone\n",
            "Requirement already satisfied: py4j==0.10.9.7 in /usr/local/lib/python3.10/dist-packages (from pyspark) (0.10.9.7)\n",
            "Building wheels for collected packages: pyspark\n",
            "  Building wheel for pyspark (setup.py) ... \u001b[?25l\u001b[?25hdone\n",
            "  Created wheel for pyspark: filename=pyspark-3.5.1-py2.py3-none-any.whl size=317488491 sha256=f20680321b4250ee8c3bff2024fcfab276c9346e99cf94df984c5a34a965364c\n",
            "  Stored in directory: /root/.cache/pip/wheels/80/1d/60/2c256ed38dddce2fdd93be545214a63e02fbd8d74fb0b7f3a6\n",
            "Successfully built pyspark\n",
            "Installing collected packages: pyspark\n",
            "Successfully installed pyspark-3.5.1\n"
          ]
        }
      ],
      "source": [
        "!pip install pyspark"
      ]
    },
    {
      "cell_type": "code",
      "source": [
        "from pyspark.sql import SparkSession"
      ],
      "metadata": {
        "id": "aeTbz_cnTY3X"
      },
      "execution_count": 98,
      "outputs": []
    },
    {
      "cell_type": "code",
      "source": [
        "spark=SparkSession.builder.master('local[*]').appName('Busy Month').getOrCreate()"
      ],
      "metadata": {
        "id": "n-6Yko2rTsjQ"
      },
      "execution_count": 99,
      "outputs": []
    },
    {
      "cell_type": "code",
      "source": [
        "Psg_df =spark.read.options(sep=',', header=True, inferSchema=True).csv('/content/lax_passengers_header.csv')"
      ],
      "metadata": {
        "id": "b01m_Hf8UiRC"
      },
      "execution_count": 104,
      "outputs": []
    },
    {
      "cell_type": "code",
      "source": [
        "Psg_df.show(5)"
      ],
      "metadata": {
        "colab": {
          "base_uri": "https://localhost:8080/"
        },
        "id": "r3DiwzsGIzjP",
        "outputId": "f04d93a7-2a35-4360-cbe8-cff2a6249ef1"
      },
      "execution_count": 105,
      "outputs": [
        {
          "output_type": "stream",
          "name": "stdout",
          "text": [
            "+--------------------+--------------------+-----------------+-----------------+----------------------+---------------+\n",
            "|     DataExtractDate|        ReportPeriod|         Terminal|Arrival_Departure|Domestic_International|Passenger_Count|\n",
            "+--------------------+--------------------+-----------------+-----------------+----------------------+---------------+\n",
            "|05/01/2014 12:00:...|01/01/2006 12:00:...|Imperial Terminal|          Arrival|              Domestic|            490|\n",
            "|05/01/2014 12:00:...|01/01/2006 12:00:...|Imperial Terminal|        Departure|              Domestic|            498|\n",
            "|05/01/2014 12:00:...|01/01/2006 12:00:...|   Misc. Terminal|          Arrival|              Domestic|            753|\n",
            "|05/01/2014 12:00:...|01/01/2006 12:00:...|   Misc. Terminal|        Departure|              Domestic|            688|\n",
            "|05/01/2014 12:00:...|01/01/2006 12:00:...|       Terminal 1|          Arrival|              Domestic|         401535|\n",
            "+--------------------+--------------------+-----------------+-----------------+----------------------+---------------+\n",
            "only showing top 5 rows\n",
            "\n"
          ]
        }
      ]
    },
    {
      "cell_type": "code",
      "source": [
        "from pyspark.sql.functions import *"
      ],
      "metadata": {
        "id": "luSV_zobBaaU"
      },
      "execution_count": 102,
      "outputs": []
    },
    {
      "cell_type": "code",
      "source": [
        "Psg_df.createOrReplaceTempView('Psg')"
      ],
      "metadata": {
        "id": "SqCpKjNHMSZB"
      },
      "execution_count": 123,
      "outputs": []
    },
    {
      "cell_type": "code",
      "source": [
        "Psg_df = Psg_df.withColumn(\"ReportPeriod\", substring(col(\"ReportPeriod\"), 4, 7));\n"
      ],
      "metadata": {
        "id": "SlCsggLEMeU7"
      },
      "execution_count": 119,
      "outputs": []
    },
    {
      "cell_type": "code",
      "source": [
        "Psg_df.show(5)"
      ],
      "metadata": {
        "colab": {
          "base_uri": "https://localhost:8080/"
        },
        "id": "yWd0GVxBMrr5",
        "outputId": "5c24f5b2-2197-44f8-ec91-6717cb22410a"
      },
      "execution_count": 120,
      "outputs": [
        {
          "output_type": "stream",
          "name": "stdout",
          "text": [
            "+--------------------+------------+-----------------+-----------------+----------------------+---------------+\n",
            "|     DataExtractDate|ReportPeriod|         Terminal|Arrival_Departure|Domestic_International|Passenger_Count|\n",
            "+--------------------+------------+-----------------+-----------------+----------------------+---------------+\n",
            "|05/01/2014 12:00:...|     01/2006|Imperial Terminal|          Arrival|              Domestic|            490|\n",
            "|05/01/2014 12:00:...|     01/2006|Imperial Terminal|        Departure|              Domestic|            498|\n",
            "|05/01/2014 12:00:...|     01/2006|   Misc. Terminal|          Arrival|              Domestic|            753|\n",
            "|05/01/2014 12:00:...|     01/2006|   Misc. Terminal|        Departure|              Domestic|            688|\n",
            "|05/01/2014 12:00:...|     01/2006|       Terminal 1|          Arrival|              Domestic|         401535|\n",
            "+--------------------+------------+-----------------+-----------------+----------------------+---------------+\n",
            "only showing top 5 rows\n",
            "\n"
          ]
        }
      ]
    },
    {
      "cell_type": "code",
      "source": [
        "result = spark.sql(\"SELECT ReportPeriod AS MonthYear, SUM(Passenger_Count) AS TotalPassengers \" +\n",
        "                \"FROM Psg \" +\n",
        "                \"WHERE Terminal != 'Tom Bradley International Terminal' \" +\n",
        "                \"GROUP BY ReportPeriod \" +\n",
        "                \"HAVING SUM(Passenger_Count) > 5000000 \" +\n",
        "                \"ORDER BY ReportPeriod\");"
      ],
      "metadata": {
        "id": "qYrMW3haJCmw"
      },
      "execution_count": 124,
      "outputs": []
    },
    {
      "cell_type": "code",
      "source": [
        "result.show(5)"
      ],
      "metadata": {
        "colab": {
          "base_uri": "https://localhost:8080/"
        },
        "id": "JInos7GzJZdD",
        "outputId": "d2948b08-ce5a-472e-f036-3bc1af28f10e"
      },
      "execution_count": 125,
      "outputs": [
        {
          "output_type": "stream",
          "name": "stdout",
          "text": [
            "+---------+---------------+\n",
            "|MonthYear|TotalPassengers|\n",
            "+---------+---------------+\n",
            "|  01/2006|       51989057|\n",
            "|  01/2007|       53245682|\n",
            "|  01/2008|       50684209|\n",
            "|  01/2009|       47720911|\n",
            "|  01/2010|       50336021|\n",
            "+---------+---------------+\n",
            "only showing top 5 rows\n",
            "\n"
          ]
        }
      ]
    }
  ]
}